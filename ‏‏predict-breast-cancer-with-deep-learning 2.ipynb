{
 "cells": [
  {
   "cell_type": "markdown",
   "metadata": {
    "_cell_guid": "11b4940c-edea-4a20-998c-1cb991364255",
    "_execution_state": "idle",
    "_uuid": "6825ae38559605f4433cb03cb41f2f0e32844de4"
   },
   "source": [
    "Breast Cancer Wisconsin (Diagnostic) Data Set"
   ]
  },
  {
   "cell_type": "markdown",
   "metadata": {},
   "source": [
    "! pip install keras"
   ]
  },
  {
   "cell_type": "code",
   "execution_count": 1,
   "metadata": {},
   "outputs": [],
   "source": [
    "from keras.models import Sequential, Model\n",
    "from keras.layers import Dense, Dropout, Input \n",
    "from keras.optimizers import SGD\n",
    "from tensorflow import keras\n",
    "from tensorflow.keras import layers, models"
   ]
  },
  {
   "cell_type": "code",
   "execution_count": 2,
   "metadata": {
    "_cell_guid": "b8458c8e-b233-49d5-9770-694bece81293",
    "_execution_state": "idle",
    "_uuid": "47783dbf4676f1bed198dbe3768f6ba487fbe975"
   },
   "outputs": [],
   "source": [
    "import numpy as np # linear algebra\n",
    "import pandas as pd # data processing, CSV file I/O (e.g. pd.read_csv)\n",
    "\n",
    "\n",
    "import matplotlib as mpl\n",
    "import matplotlib.pyplot as plt\n",
    "import matplotlib.pyplot as plt2\n",
    "import matplotlib.cm as cm\n",
    "%matplotlib inline\n",
    "from sklearn import preprocessing\n",
    "from subprocess import check_output\n"
   ]
  },
  {
   "cell_type": "code",
   "execution_count": 3,
   "metadata": {
    "_cell_guid": "2f88dc98-b91a-4574-b182-069395a1a5f0",
    "_execution_state": "idle",
    "_uuid": "4e309f19617f2bcef1595de0d6df5d3bc7460844"
   },
   "outputs": [
    {
     "data": {
      "text/html": [
       "<div>\n",
       "<style scoped>\n",
       "    .dataframe tbody tr th:only-of-type {\n",
       "        vertical-align: middle;\n",
       "    }\n",
       "\n",
       "    .dataframe tbody tr th {\n",
       "        vertical-align: top;\n",
       "    }\n",
       "\n",
       "    .dataframe thead th {\n",
       "        text-align: right;\n",
       "    }\n",
       "</style>\n",
       "<table border=\"1\" class=\"dataframe\">\n",
       "  <thead>\n",
       "    <tr style=\"text-align: right;\">\n",
       "      <th></th>\n",
       "      <th>Unnamed: 0</th>\n",
       "      <th>Sex</th>\n",
       "      <th>Age</th>\n",
       "      <th>Adress</th>\n",
       "      <th>FBS</th>\n",
       "      <th>Urea</th>\n",
       "      <th>Creatinin</th>\n",
       "      <th>ALB</th>\n",
       "      <th>T_Ca</th>\n",
       "      <th>GPT</th>\n",
       "      <th>...</th>\n",
       "      <th>WBC</th>\n",
       "      <th>RBC</th>\n",
       "      <th>HGB</th>\n",
       "      <th>PLT</th>\n",
       "      <th>ESR</th>\n",
       "      <th>LDH</th>\n",
       "      <th>Na</th>\n",
       "      <th>K</th>\n",
       "      <th>CL</th>\n",
       "      <th>minibatch</th>\n",
       "    </tr>\n",
       "  </thead>\n",
       "  <tbody>\n",
       "    <tr>\n",
       "      <th>0</th>\n",
       "      <td>0</td>\n",
       "      <td>1</td>\n",
       "      <td>60</td>\n",
       "      <td>24</td>\n",
       "      <td>100</td>\n",
       "      <td>23</td>\n",
       "      <td>0.8</td>\n",
       "      <td>3.4</td>\n",
       "      <td>10.0</td>\n",
       "      <td>20</td>\n",
       "      <td>...</td>\n",
       "      <td>3.4</td>\n",
       "      <td>4.60</td>\n",
       "      <td>13.4</td>\n",
       "      <td>196</td>\n",
       "      <td>14</td>\n",
       "      <td>150</td>\n",
       "      <td>145.0</td>\n",
       "      <td>4.50</td>\n",
       "      <td>107.1</td>\n",
       "      <td>0</td>\n",
       "    </tr>\n",
       "    <tr>\n",
       "      <th>1</th>\n",
       "      <td>1</td>\n",
       "      <td>1</td>\n",
       "      <td>53</td>\n",
       "      <td>19</td>\n",
       "      <td>190</td>\n",
       "      <td>27</td>\n",
       "      <td>0.6</td>\n",
       "      <td>4.2</td>\n",
       "      <td>9.3</td>\n",
       "      <td>11</td>\n",
       "      <td>...</td>\n",
       "      <td>4.4</td>\n",
       "      <td>5.00</td>\n",
       "      <td>12.5</td>\n",
       "      <td>155</td>\n",
       "      <td>15</td>\n",
       "      <td>260</td>\n",
       "      <td>139.2</td>\n",
       "      <td>4.17</td>\n",
       "      <td>106.4</td>\n",
       "      <td>0</td>\n",
       "    </tr>\n",
       "    <tr>\n",
       "      <th>2</th>\n",
       "      <td>2</td>\n",
       "      <td>1</td>\n",
       "      <td>50</td>\n",
       "      <td>19</td>\n",
       "      <td>150</td>\n",
       "      <td>15</td>\n",
       "      <td>1.1</td>\n",
       "      <td>3.5</td>\n",
       "      <td>8.5</td>\n",
       "      <td>13</td>\n",
       "      <td>...</td>\n",
       "      <td>5.1</td>\n",
       "      <td>4.46</td>\n",
       "      <td>13.8</td>\n",
       "      <td>312</td>\n",
       "      <td>15</td>\n",
       "      <td>169</td>\n",
       "      <td>140.0</td>\n",
       "      <td>4.00</td>\n",
       "      <td>100.1</td>\n",
       "      <td>0</td>\n",
       "    </tr>\n",
       "    <tr>\n",
       "      <th>3</th>\n",
       "      <td>3</td>\n",
       "      <td>1</td>\n",
       "      <td>36</td>\n",
       "      <td>17</td>\n",
       "      <td>80</td>\n",
       "      <td>20</td>\n",
       "      <td>1.0</td>\n",
       "      <td>4.2</td>\n",
       "      <td>8.0</td>\n",
       "      <td>7</td>\n",
       "      <td>...</td>\n",
       "      <td>3.1</td>\n",
       "      <td>4.33</td>\n",
       "      <td>10.7</td>\n",
       "      <td>212</td>\n",
       "      <td>10</td>\n",
       "      <td>138</td>\n",
       "      <td>136.4</td>\n",
       "      <td>4.06</td>\n",
       "      <td>107.1</td>\n",
       "      <td>0</td>\n",
       "    </tr>\n",
       "    <tr>\n",
       "      <th>4</th>\n",
       "      <td>4</td>\n",
       "      <td>1</td>\n",
       "      <td>30</td>\n",
       "      <td>17</td>\n",
       "      <td>80</td>\n",
       "      <td>40</td>\n",
       "      <td>0.8</td>\n",
       "      <td>3.0</td>\n",
       "      <td>9.5</td>\n",
       "      <td>9</td>\n",
       "      <td>...</td>\n",
       "      <td>4.2</td>\n",
       "      <td>4.13</td>\n",
       "      <td>12.3</td>\n",
       "      <td>243</td>\n",
       "      <td>5</td>\n",
       "      <td>154</td>\n",
       "      <td>142.3</td>\n",
       "      <td>4.00</td>\n",
       "      <td>106.2</td>\n",
       "      <td>0</td>\n",
       "    </tr>\n",
       "  </tbody>\n",
       "</table>\n",
       "<p>5 rows × 24 columns</p>\n",
       "</div>"
      ],
      "text/plain": [
       "   Unnamed: 0  Sex  Age  Adress  FBS  Urea  Creatinin  ALB  T_Ca  GPT  ...  \\\n",
       "0           0    1   60      24  100    23        0.8  3.4  10.0   20  ...   \n",
       "1           1    1   53      19  190    27        0.6  4.2   9.3   11  ...   \n",
       "2           2    1   50      19  150    15        1.1  3.5   8.5   13  ...   \n",
       "3           3    1   36      17   80    20        1.0  4.2   8.0    7  ...   \n",
       "4           4    1   30      17   80    40        0.8  3.0   9.5    9  ...   \n",
       "\n",
       "   WBC   RBC   HGB  PLT  ESR  LDH     Na     K     CL  minibatch  \n",
       "0  3.4  4.60  13.4  196   14  150  145.0  4.50  107.1          0  \n",
       "1  4.4  5.00  12.5  155   15  260  139.2  4.17  106.4          0  \n",
       "2  5.1  4.46  13.8  312   15  169  140.0  4.00  100.1          0  \n",
       "3  3.1  4.33  10.7  212   10  138  136.4  4.06  107.1          0  \n",
       "4  4.2  4.13  12.3  243    5  154  142.3  4.00  106.2          0  \n",
       "\n",
       "[5 rows x 24 columns]"
      ]
     },
     "execution_count": 3,
     "metadata": {},
     "output_type": "execute_result"
    }
   ],
   "source": [
    "# Read the data file\n",
    "\n",
    "data = pd.read_excel('minibatch.xlsx')\n",
    "data.head()\n"
   ]
  },
  {
   "cell_type": "code",
   "execution_count": 4,
   "metadata": {
    "_cell_guid": "c8296ef1-f658-4efa-a71a-77864d582979",
    "_execution_state": "idle",
    "_uuid": "8ea2e37ae63d8ecb4f114d437c57116a06371869",
    "scrolled": true
   },
   "outputs": [],
   "source": [
    "# Cleaning and modifying the data\n",
    "data = data.drop('Unnamed: 0',axis=1)\n",
    "# Scaling the dataset\n",
    "datas = pd.DataFrame(preprocessing.scale(data.iloc[:,1:23]))\n",
    "datas.columns = list(data.iloc[:,1:23].columns)\n",
    "datas['minibatch'] = data['minibatch']\n",
    "# Creating the high dimensional feature space X\n",
    "data_drop = datas.drop('minibatch',axis=1)\n",
    "X = data_drop.values\n",
    "\n"
   ]
  },
  {
   "cell_type": "code",
   "execution_count": null,
   "metadata": {},
   "outputs": [],
   "source": []
  },
  {
   "cell_type": "markdown",
   "metadata": {},
   "source": [
    "## Bulding CNN"
   ]
  },
  {
   "cell_type": "markdown",
   "metadata": {},
   "source": [
    "### keras + Conv2D + MaxPooling2D"
   ]
  },
  {
   "cell_type": "code",
   "execution_count": null,
   "metadata": {},
   "outputs": [],
   "source": []
  },
  {
   "cell_type": "code",
   "execution_count": 10,
   "metadata": {},
   "outputs": [],
   "source": [
    "from tensorflow import keras\n",
    "from tensorflow.keras import layers, models\n",
    "from keras.optimizers import SGD\n",
    "\n",
    "#BULDING CNN\n",
    "model = models.Sequential()\n",
    "model.add(layers.Conv2D(32, (3, 3), activation='relu', input_shape=(32, 32, 3)))\n",
    "model.add(layers.MaxPooling2D((2, 2)))\n",
    "model.add(layers.Conv2D(64, (3, 3), activation='relu'))\n",
    "model.add(layers.MaxPooling2D((2, 2)))\n",
    "model.add(layers.Conv2D(64, (3, 3), activation='relu'))\n",
    "model.add(Dense(1, activation='sigmoid'))\n",
    "\n",
    "#compiler and optmaization\n",
    "\n",
    "model.compile(loss='binary_crossentropy', optimizer=\"adam\", metrics=['accuracy'])\n"
   ]
  },
  {
   "cell_type": "code",
   "execution_count": 12,
   "metadata": {},
   "outputs": [
    {
     "name": "stdout",
     "output_type": "stream",
     "text": [
      "Model: \"sequential_4\"\n",
      "_________________________________________________________________\n",
      " Layer (type)                Output Shape              Param #   \n",
      "=================================================================\n",
      " conv2d_12 (Conv2D)          (None, 30, 30, 32)        896       \n",
      "                                                                 \n",
      " max_pooling2d_8 (MaxPooling  (None, 15, 15, 32)       0         \n",
      " 2D)                                                             \n",
      "                                                                 \n",
      " conv2d_13 (Conv2D)          (None, 13, 13, 64)        18496     \n",
      "                                                                 \n",
      " max_pooling2d_9 (MaxPooling  (None, 6, 6, 64)         0         \n",
      " 2D)                                                             \n",
      "                                                                 \n",
      " conv2d_14 (Conv2D)          (None, 4, 4, 64)          36928     \n",
      "                                                                 \n",
      " dense_1 (Dense)             (None, 4, 4, 2)           130       \n",
      "                                                                 \n",
      "=================================================================\n",
      "Total params: 56,450\n",
      "Trainable params: 56,450\n",
      "Non-trainable params: 0\n",
      "_________________________________________________________________\n"
     ]
    }
   ],
   "source": [
    "model.summary()\n",
    "\n"
   ]
  },
  {
   "cell_type": "code",
   "execution_count": 13,
   "metadata": {},
   "outputs": [],
   "source": [
    "import visualkeras"
   ]
  },
  {
   "cell_type": "code",
   "execution_count": 14,
   "metadata": {},
   "outputs": [
    {
     "data": {
      "image/png": "[encoded data removed]",
      "text/plain": [
       "<PIL.Image.Image image mode=RGBA size=214x222>"
      ]
     },
     "execution_count": 14,
     "metadata": {},
     "output_type": "execute_result"
    }
   ],
   "source": [
    "visualkeras.layered_view(model, legend=True)"
   ]
  },
  {
   "cell_type": "code",
   "execution_count": null,
   "metadata": {},
   "outputs": [],
   "source": []
  }
 ],
 "metadata": {
  "kernelspec": {
   "display_name": "Python 3 (ipykernel)",
   "language": "python",
   "name": "python3"
  },
  "language_info": {
   "codemirror_mode": {
    "name": "ipython",
    "version": 3
   },
   "file_extension": ".py",
   "mimetype": "text/x-python",
   "name": "python",
   "nbconvert_exporter": "python",
   "pygments_lexer": "ipython3",
   "version": "3.9.13"
  }
 },
 "nbformat": 4,
 "nbformat_minor": 1
}
