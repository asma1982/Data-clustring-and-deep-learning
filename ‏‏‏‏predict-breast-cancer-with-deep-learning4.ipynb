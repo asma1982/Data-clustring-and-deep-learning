{
 "cells": [
  {
   "cell_type": "markdown",
   "metadata": {
    "_cell_guid": "11b4940c-edea-4a20-998c-1cb991364255",
    "_execution_state": "idle",
    "_uuid": "6825ae38559605f4433cb03cb41f2f0e32844de4"
   },
   "source": [
    "Breast Cancer Wisconsin (Diagnostic) Data Set"
   ]
  },
  {
   "cell_type": "markdown",
   "metadata": {},
   "source": [
    "! pip install keras"
   ]
  },
  {
   "cell_type": "code",
   "execution_count": 1,
   "metadata": {},
   "outputs": [],
   "source": [
    "from keras.models import Sequential, Model\n",
    "from keras.layers import Dense, Dropout, Input \n",
    "from keras.optimizers import SGD\n",
    "from tensorflow import keras\n",
    "from tensorflow.keras import layers, models"
   ]
  },
  {
   "cell_type": "code",
   "execution_count": 2,
   "metadata": {
    "_cell_guid": "b8458c8e-b233-49d5-9770-694bece81293",
    "_execution_state": "idle",
    "_uuid": "47783dbf4676f1bed198dbe3768f6ba487fbe975"
   },
   "outputs": [],
   "source": [
    "import numpy as np # linear algebra\n",
    "import pandas as pd # data processing, CSV file I/O (e.g. pd.read_csv)\n",
    "\n",
    "\n",
    "import matplotlib as mpl\n",
    "import matplotlib.pyplot as plt\n",
    "import matplotlib.pyplot as plt2\n",
    "import matplotlib.cm as cm\n",
    "%matplotlib inline\n",
    "from sklearn import preprocessing\n",
    "from subprocess import check_output\n",
    "\n",
    "#\n",
    "\n",
    "\n",
    "\n"
   ]
  },
  {
   "cell_type": "code",
   "execution_count": 3,
   "metadata": {
    "_cell_guid": "2f88dc98-b91a-4574-b182-069395a1a5f0",
    "_execution_state": "idle",
    "_uuid": "4e309f19617f2bcef1595de0d6df5d3bc7460844"
   },
   "outputs": [
    {
     "data": {
      "text/html": [
       "<div>\n",
       "<style scoped>\n",
       "    .dataframe tbody tr th:only-of-type {\n",
       "        vertical-align: middle;\n",
       "    }\n",
       "\n",
       "    .dataframe tbody tr th {\n",
       "        vertical-align: top;\n",
       "    }\n",
       "\n",
       "    .dataframe thead th {\n",
       "        text-align: right;\n",
       "    }\n",
       "</style>\n",
       "<table border=\"1\" class=\"dataframe\">\n",
       "  <thead>\n",
       "    <tr style=\"text-align: right;\">\n",
       "      <th></th>\n",
       "      <th>Unnamed: 0</th>\n",
       "      <th>Sex</th>\n",
       "      <th>Age</th>\n",
       "      <th>Adress</th>\n",
       "      <th>FBS</th>\n",
       "      <th>Urea</th>\n",
       "      <th>Creatinin</th>\n",
       "      <th>ALB</th>\n",
       "      <th>T_Ca</th>\n",
       "      <th>GPT</th>\n",
       "      <th>...</th>\n",
       "      <th>WBC</th>\n",
       "      <th>RBC</th>\n",
       "      <th>HGB</th>\n",
       "      <th>PLT</th>\n",
       "      <th>ESR</th>\n",
       "      <th>LDH</th>\n",
       "      <th>Na</th>\n",
       "      <th>K</th>\n",
       "      <th>CL</th>\n",
       "      <th>minibatch</th>\n",
       "    </tr>\n",
       "  </thead>\n",
       "  <tbody>\n",
       "    <tr>\n",
       "      <th>0</th>\n",
       "      <td>0</td>\n",
       "      <td>1</td>\n",
       "      <td>60</td>\n",
       "      <td>24</td>\n",
       "      <td>100</td>\n",
       "      <td>23</td>\n",
       "      <td>0.8</td>\n",
       "      <td>3.4</td>\n",
       "      <td>10.0</td>\n",
       "      <td>20</td>\n",
       "      <td>...</td>\n",
       "      <td>3.4</td>\n",
       "      <td>4.60</td>\n",
       "      <td>13.4</td>\n",
       "      <td>196</td>\n",
       "      <td>14</td>\n",
       "      <td>150</td>\n",
       "      <td>145.0</td>\n",
       "      <td>4.50</td>\n",
       "      <td>107.1</td>\n",
       "      <td>0</td>\n",
       "    </tr>\n",
       "    <tr>\n",
       "      <th>1</th>\n",
       "      <td>1</td>\n",
       "      <td>1</td>\n",
       "      <td>53</td>\n",
       "      <td>19</td>\n",
       "      <td>190</td>\n",
       "      <td>27</td>\n",
       "      <td>0.6</td>\n",
       "      <td>4.2</td>\n",
       "      <td>9.3</td>\n",
       "      <td>11</td>\n",
       "      <td>...</td>\n",
       "      <td>4.4</td>\n",
       "      <td>5.00</td>\n",
       "      <td>12.5</td>\n",
       "      <td>155</td>\n",
       "      <td>15</td>\n",
       "      <td>260</td>\n",
       "      <td>139.2</td>\n",
       "      <td>4.17</td>\n",
       "      <td>106.4</td>\n",
       "      <td>0</td>\n",
       "    </tr>\n",
       "    <tr>\n",
       "      <th>2</th>\n",
       "      <td>2</td>\n",
       "      <td>1</td>\n",
       "      <td>50</td>\n",
       "      <td>19</td>\n",
       "      <td>150</td>\n",
       "      <td>15</td>\n",
       "      <td>1.1</td>\n",
       "      <td>3.5</td>\n",
       "      <td>8.5</td>\n",
       "      <td>13</td>\n",
       "      <td>...</td>\n",
       "      <td>5.1</td>\n",
       "      <td>4.46</td>\n",
       "      <td>13.8</td>\n",
       "      <td>312</td>\n",
       "      <td>15</td>\n",
       "      <td>169</td>\n",
       "      <td>140.0</td>\n",
       "      <td>4.00</td>\n",
       "      <td>100.1</td>\n",
       "      <td>0</td>\n",
       "    </tr>\n",
       "    <tr>\n",
       "      <th>3</th>\n",
       "      <td>3</td>\n",
       "      <td>1</td>\n",
       "      <td>36</td>\n",
       "      <td>17</td>\n",
       "      <td>80</td>\n",
       "      <td>20</td>\n",
       "      <td>1.0</td>\n",
       "      <td>4.2</td>\n",
       "      <td>8.0</td>\n",
       "      <td>7</td>\n",
       "      <td>...</td>\n",
       "      <td>3.1</td>\n",
       "      <td>4.33</td>\n",
       "      <td>10.7</td>\n",
       "      <td>212</td>\n",
       "      <td>10</td>\n",
       "      <td>138</td>\n",
       "      <td>136.4</td>\n",
       "      <td>4.06</td>\n",
       "      <td>107.1</td>\n",
       "      <td>0</td>\n",
       "    </tr>\n",
       "    <tr>\n",
       "      <th>4</th>\n",
       "      <td>4</td>\n",
       "      <td>1</td>\n",
       "      <td>30</td>\n",
       "      <td>17</td>\n",
       "      <td>80</td>\n",
       "      <td>40</td>\n",
       "      <td>0.8</td>\n",
       "      <td>3.0</td>\n",
       "      <td>9.5</td>\n",
       "      <td>9</td>\n",
       "      <td>...</td>\n",
       "      <td>4.2</td>\n",
       "      <td>4.13</td>\n",
       "      <td>12.3</td>\n",
       "      <td>243</td>\n",
       "      <td>5</td>\n",
       "      <td>154</td>\n",
       "      <td>142.3</td>\n",
       "      <td>4.00</td>\n",
       "      <td>106.2</td>\n",
       "      <td>0</td>\n",
       "    </tr>\n",
       "  </tbody>\n",
       "</table>\n",
       "<p>5 rows × 24 columns</p>\n",
       "</div>"
      ],
      "text/plain": [
       "   Unnamed: 0  Sex  Age  Adress  FBS  Urea  Creatinin  ALB  T_Ca  GPT  ...  \\\n",
       "0           0    1   60      24  100    23        0.8  3.4  10.0   20  ...   \n",
       "1           1    1   53      19  190    27        0.6  4.2   9.3   11  ...   \n",
       "2           2    1   50      19  150    15        1.1  3.5   8.5   13  ...   \n",
       "3           3    1   36      17   80    20        1.0  4.2   8.0    7  ...   \n",
       "4           4    1   30      17   80    40        0.8  3.0   9.5    9  ...   \n",
       "\n",
       "   WBC   RBC   HGB  PLT  ESR  LDH     Na     K     CL  minibatch  \n",
       "0  3.4  4.60  13.4  196   14  150  145.0  4.50  107.1          0  \n",
       "1  4.4  5.00  12.5  155   15  260  139.2  4.17  106.4          0  \n",
       "2  5.1  4.46  13.8  312   15  169  140.0  4.00  100.1          0  \n",
       "3  3.1  4.33  10.7  212   10  138  136.4  4.06  107.1          0  \n",
       "4  4.2  4.13  12.3  243    5  154  142.3  4.00  106.2          0  \n",
       "\n",
       "[5 rows x 24 columns]"
      ]
     },
     "execution_count": 3,
     "metadata": {},
     "output_type": "execute_result"
    }
   ],
   "source": [
    "# Read the data file\n",
    "\n",
    "data = pd.read_excel('minibatch.xlsx')\n",
    "data.head()\n"
   ]
  },
  {
   "cell_type": "code",
   "execution_count": 4,
   "metadata": {
    "_cell_guid": "c8296ef1-f658-4efa-a71a-77864d582979",
    "_execution_state": "idle",
    "_uuid": "8ea2e37ae63d8ecb4f114d437c57116a06371869",
    "scrolled": true
   },
   "outputs": [],
   "source": [
    "# Cleaning and modifying the data\n",
    "data = data.drop('Unnamed: 0',axis=1)\n",
    "# Scaling the dataset\n",
    "datas = pd.DataFrame(preprocessing.scale(data.iloc[:,1:23]))\n",
    "datas.columns = list(data.iloc[:,1:23].columns)\n",
    "datas['minibatch'] = data['minibatch']\n",
    "# Creating the high dimensional feature space X\n",
    "data_drop = datas.drop('minibatch',axis=1)\n",
    "X = data_drop.values\n",
    "\n"
   ]
  },
  {
   "cell_type": "markdown",
   "metadata": {},
   "source": [
    "## Bulding CNN"
   ]
  },
  {
   "cell_type": "markdown",
   "metadata": {},
   "source": [
    "### keras + Dense + Dropout"
   ]
  },
  {
   "cell_type": "code",
   "execution_count": 5,
   "metadata": {
    "_cell_guid": "e1f90b94-4fe9-4edb-b49f-a4178f9438fd",
    "_execution_state": "idle",
    "_uuid": "270739d4c7599912717e58f45e14a0ba96c38963"
   },
   "outputs": [
    {
     "name": "stderr",
     "output_type": "stream",
     "text": [
      "C:\\Users\\TOSHIBA\\anaconda3\\lib\\site-packages\\keras\\optimizers\\optimizer_v2\\gradient_descent.py:114: UserWarning: The `lr` argument is deprecated, use `learning_rate` instead.\n",
      "  super().__init__(name, **kwargs)\n"
     ]
    },
    {
     "name": "stdout",
     "output_type": "stream",
     "text": [
      "Epoch 1/10\n",
      "327/327 [==============================] - 3s 4ms/step - loss: 0.0612 - accuracy: 0.9749 - val_loss: 0.0185 - val_accuracy: 0.9925\n",
      "Epoch 2/10\n",
      "327/327 [==============================] - 1s 3ms/step - loss: 0.0153 - accuracy: 0.9920 - val_loss: 0.0289 - val_accuracy: 0.9888\n",
      "Epoch 3/10\n",
      "327/327 [==============================] - 1s 3ms/step - loss: 0.0173 - accuracy: 0.9926 - val_loss: 0.0305 - val_accuracy: 0.9888\n",
      "Epoch 4/10\n",
      "327/327 [==============================] - 1s 3ms/step - loss: 0.0158 - accuracy: 0.9933 - val_loss: 0.0237 - val_accuracy: 0.9913\n",
      "Epoch 5/10\n",
      "327/327 [==============================] - 1s 4ms/step - loss: 0.0055 - accuracy: 0.9988 - val_loss: 0.0259 - val_accuracy: 0.9925\n",
      "Epoch 6/10\n",
      "327/327 [==============================] - 1s 4ms/step - loss: 0.0073 - accuracy: 0.9969 - val_loss: 0.0288 - val_accuracy: 0.9925\n",
      "Epoch 7/10\n",
      "327/327 [==============================] - 1s 4ms/step - loss: 0.0137 - accuracy: 0.9963 - val_loss: 0.0200 - val_accuracy: 0.9900\n",
      "Epoch 8/10\n",
      "327/327 [==============================] - 1s 4ms/step - loss: 0.0034 - accuracy: 0.9988 - val_loss: 0.0216 - val_accuracy: 0.9925\n",
      "Epoch 9/10\n",
      "327/327 [==============================] - 1s 4ms/step - loss: 0.0143 - accuracy: 0.9963 - val_loss: 0.0282 - val_accuracy: 0.9900\n",
      "Epoch 10/10\n",
      "327/327 [==============================] - 1s 3ms/step - loss: 0.0050 - accuracy: 0.9975 - val_loss: 0.0273 - val_accuracy: 0.9925\n"
     ]
    }
   ],
   "source": [
    "# Create a feed forward neural network with 3 hidden layers\n",
    "from keras.models import Sequential, Model\n",
    "from keras.layers import Dense, Dropout, Input \n",
    "from keras.optimizers import SGD\n",
    "\n",
    "model1 = Sequential()\n",
    "model1.add(Dense(128,activation=\"relu\",input_dim = np.shape(X)[1]))\n",
    "model1.add(Dropout(0.25))\n",
    "model1.add(Dense(32, activation='relu'))\n",
    "model1.add(Dropout(0.25))\n",
    "model1.add(Dense(32, activation='relu'))\n",
    "model1.add(Dense(1, activation='sigmoid'))\n",
    "sgd = SGD(lr=0.01, decay=1e-6, momentum=0.9, nesterov=True)\n",
    "model1.compile(loss='binary_crossentropy', optimizer=sgd, metrics=['accuracy'])\n",
    "\n",
    "# Fit and test the model by randomly splitting it \n",
    "# 67% of the data for training and 33% of the data for validation\n",
    "history=model1.fit(X, datas['minibatch'], batch_size=5, epochs=10,validation_split=0.33)\n",
    "\n",
    "\n"
   ]
  },
  {
   "cell_type": "code",
   "execution_count": 6,
   "metadata": {
    "scrolled": true
   },
   "outputs": [
    {
     "name": "stdout",
     "output_type": "stream",
     "text": [
      "Model: \"sequential\"\n",
      "_________________________________________________________________\n",
      " Layer (type)                Output Shape              Param #   \n",
      "=================================================================\n",
      " dense (Dense)               (None, 128)               2816      \n",
      "                                                                 \n",
      " dropout (Dropout)           (None, 128)               0         \n",
      "                                                                 \n",
      " dense_1 (Dense)             (None, 32)                4128      \n",
      "                                                                 \n",
      " dropout_1 (Dropout)         (None, 32)                0         \n",
      "                                                                 \n",
      " dense_2 (Dense)             (None, 32)                1056      \n",
      "                                                                 \n",
      " dense_3 (Dense)             (None, 1)                 33        \n",
      "                                                                 \n",
      "=================================================================\n",
      "Total params: 8,033\n",
      "Trainable params: 8,033\n",
      "Non-trainable params: 0\n",
      "_________________________________________________________________\n"
     ]
    }
   ],
   "source": [
    "model1.summary()\n"
   ]
  },
  {
   "cell_type": "markdown",
   "metadata": {},
   "source": [
    "pip install visualkeras"
   ]
  },
  {
   "cell_type": "code",
   "execution_count": 7,
   "metadata": {},
   "outputs": [],
   "source": [
    "import visualkeras"
   ]
  },
  {
   "cell_type": "code",
   "execution_count": 8,
   "metadata": {},
   "outputs": [
    {
     "data": {
      "image/png": "[encoded data removed]",
      "text/plain": [
       "<PIL.Image.Image image mode=RGBA size=197x27>"
      ]
     },
     "execution_count": 8,
     "metadata": {},
     "output_type": "execute_result"
    }
   ],
   "source": [
    "visualkeras.layered_view(model1)"
   ]
  },
  {
   "cell_type": "code",
   "execution_count": 10,
   "metadata": {
    "_cell_guid": "db01fa8c-ec50-4941-bf31-3bc7f8c8b522",
    "_uuid": "c2a318b4a3075b3dcdd5f97ff2a759e0fe7238d4"
   },
   "outputs": [
    {
     "name": "stdout",
     "output_type": "stream",
     "text": [
      "2-fold cross validation accuracy -  99.79% (+/- 0.12%)\n"
     ]
    }
   ],
   "source": [
    "# Cross validation analysis \n",
    "from sklearn.model_selection import StratifiedKFold\n",
    "# fix random seed for reproducibility\n",
    "seed = 3\n",
    "np.random.seed(seed)\n",
    "# K fold cross validation (k=2)\n",
    "k = 2\n",
    "kfold = StratifiedKFold(n_splits=2, shuffle=True, random_state=seed)\n",
    "cvscores = []\n",
    "Y = datas['minibatch']\n",
    "for train, test in kfold.split(X, Y):\n",
    "    # Fit the model\n",
    "    model1.fit(X[train], Y[train], epochs=30, batch_size=10, verbose=0)\n",
    "    # evaluate the model\n",
    "    scores = model1.evaluate(X[test], Y[test], verbose=0)\n",
    "    # Print scores from each cross validation run \n",
    "    # print(\"%s: %.2f%%\" % (model.metrics_names[1], scores[1]*100))\n",
    "    cvscores.append(scores[1] * 100)\n",
    "print(\"%d-fold cross validation accuracy -  %.2f%% (+/- %.2f%%)\" % (k,np.mean(cvscores), np.std(cvscores)))"
   ]
  },
  {
   "cell_type": "code",
   "execution_count": 11,
   "metadata": {},
   "outputs": [
    {
     "name": "stdout",
     "output_type": "stream",
     "text": [
      "Epoch 1/10\n"
     ]
    },
    {
     "name": "stderr",
     "output_type": "stream",
     "text": [
      "C:\\Users\\TOSHIBA\\anaconda3\\lib\\site-packages\\keras\\optimizers\\optimizer_v2\\gradient_descent.py:114: UserWarning: The `lr` argument is deprecated, use `learning_rate` instead.\n",
      "  super().__init__(name, **kwargs)\n"
     ]
    },
    {
     "name": "stdout",
     "output_type": "stream",
     "text": [
      "327/327 [==============================] - 3s 5ms/step - loss: 0.0724 - precision: 0.9123 - val_loss: 0.0185 - val_precision: 0.9933\n",
      "Epoch 2/10\n",
      "327/327 [==============================] - 1s 4ms/step - loss: 0.0172 - precision: 0.9821 - val_loss: 0.0176 - val_precision: 0.9960\n",
      "Epoch 3/10\n",
      "327/327 [==============================] - 1s 4ms/step - loss: 0.0148 - precision: 0.9786 - val_loss: 0.0205 - val_precision: 0.9960\n",
      "Epoch 4/10\n",
      "327/327 [==============================] - 1s 4ms/step - loss: 0.0076 - precision: 0.9964 - val_loss: 0.0220 - val_precision: 0.9960\n",
      "Epoch 5/10\n",
      "327/327 [==============================] - 1s 4ms/step - loss: 0.0123 - precision: 0.9857 - val_loss: 0.0276 - val_precision: 0.9960\n",
      "Epoch 6/10\n",
      "327/327 [==============================] - 1s 4ms/step - loss: 0.0100 - precision: 0.9928 - val_loss: 0.0229 - val_precision: 0.9960\n",
      "Epoch 7/10\n",
      "327/327 [==============================] - 1s 4ms/step - loss: 0.0128 - precision: 0.9857 - val_loss: 0.0280 - val_precision: 0.9959\n",
      "Epoch 8/10\n",
      "327/327 [==============================] - 2s 5ms/step - loss: 0.0075 - precision: 0.9928 - val_loss: 0.0270 - val_precision: 0.9960\n",
      "Epoch 9/10\n",
      "327/327 [==============================] - 1s 4ms/step - loss: 0.0052 - precision: 0.9964 - val_loss: 0.0308 - val_precision: 0.9959\n",
      "Epoch 10/10\n",
      "327/327 [==============================] - 2s 5ms/step - loss: 0.0099 - precision: 0.9892 - val_loss: 0.0316 - val_precision: 0.9959\n"
     ]
    }
   ],
   "source": [
    "# Create a feed forward neural network with 3 hidden layers\n",
    "from keras.models import Sequential, Model\n",
    "from keras.layers import Dense, Dropout, Input \n",
    "from keras.optimizers import SGD\n",
    "\n",
    "model2 = Sequential()\n",
    "model2.add(Dense(128,activation=\"relu\",input_dim = np.shape(X)[1]))\n",
    "model2.add(Dropout(0.25))\n",
    "model2.add(Dense(32, activation='relu'))\n",
    "model2.add(Dropout(0.25))\n",
    "model2.add(Dense(32, activation='relu'))\n",
    "model2.add(Dense(1, activation='sigmoid'))\n",
    "sgd = SGD(lr=0.01, decay=1e-6, momentum=0.9, nesterov=True)\n",
    "model2.compile(loss='binary_crossentropy', optimizer=sgd, metrics=['Precision'])\n",
    "\n",
    "# Fit and test the model by randomly splitting it \n",
    "# 67% of the data for training and 33% of the data for validation\n",
    "history=model2.fit(X, datas['minibatch'], batch_size=5, epochs=10,validation_split=0.33)\n"
   ]
  },
  {
   "cell_type": "code",
   "execution_count": 12,
   "metadata": {},
   "outputs": [
    {
     "name": "stdout",
     "output_type": "stream",
     "text": [
      "Model: \"sequential_1\"\n",
      "_________________________________________________________________\n",
      " Layer (type)                Output Shape              Param #   \n",
      "=================================================================\n",
      " dense_4 (Dense)             (None, 128)               2816      \n",
      "                                                                 \n",
      " dropout_2 (Dropout)         (None, 128)               0         \n",
      "                                                                 \n",
      " dense_5 (Dense)             (None, 32)                4128      \n",
      "                                                                 \n",
      " dropout_3 (Dropout)         (None, 32)                0         \n",
      "                                                                 \n",
      " dense_6 (Dense)             (None, 32)                1056      \n",
      "                                                                 \n",
      " dense_7 (Dense)             (None, 1)                 33        \n",
      "                                                                 \n",
      "=================================================================\n",
      "Total params: 8,033\n",
      "Trainable params: 8,033\n",
      "Non-trainable params: 0\n",
      "_________________________________________________________________\n"
     ]
    }
   ],
   "source": [
    "model2.summary()\n"
   ]
  },
  {
   "cell_type": "code",
   "execution_count": 13,
   "metadata": {},
   "outputs": [
    {
     "data": {
      "image/png": "[encoded data removed]",
      "text/plain": [
       "<PIL.Image.Image image mode=RGBA size=197x27>"
      ]
     },
     "execution_count": 13,
     "metadata": {},
     "output_type": "execute_result"
    }
   ],
   "source": [
    "visualkeras.layered_view(model2)"
   ]
  },
  {
   "cell_type": "code",
   "execution_count": null,
   "metadata": {},
   "outputs": [],
   "source": []
  },
  {
   "cell_type": "code",
   "execution_count": 14,
   "metadata": {},
   "outputs": [],
   "source": [
    "from PIL import ImageFont\n"
   ]
  },
  {
   "cell_type": "code",
   "execution_count": 15,
   "metadata": {},
   "outputs": [
    {
     "data": {
      "image/png": "[encoded data removed]",
      "text/plain": [
       "<PIL.Image.Image image mode=RGBA size=197x63>"
      ]
     },
     "execution_count": 15,
     "metadata": {},
     "output_type": "execute_result"
    }
   ],
   "source": [
    "visualkeras.layered_view(model2, legend=True)"
   ]
  },
  {
   "cell_type": "code",
   "execution_count": null,
   "metadata": {},
   "outputs": [],
   "source": []
  },
  {
   "cell_type": "markdown",
   "metadata": {},
   "source": [
    "## Bulding CNN"
   ]
  },
  {
   "cell_type": "markdown",
   "metadata": {},
   "source": [
    "### keras + Conv2D + MaxPooling2D"
   ]
  },
  {
   "cell_type": "code",
   "execution_count": null,
   "metadata": {},
   "outputs": [],
   "source": []
  },
  {
   "cell_type": "code",
   "execution_count": 17,
   "metadata": {},
   "outputs": [],
   "source": [
    "from tensorflow import keras\n",
    "from tensorflow.keras import layers, models\n",
    "\n",
    "\n",
    "model = models.Sequential()\n",
    "model.add(layers.Conv2D(32, (3, 3), activation='relu', input_shape=(32, 32, 3)))\n",
    "model.add(layers.MaxPooling2D((2, 2)))\n",
    "model.add(layers.Conv2D(64, (3, 3), activation='relu'))\n",
    "model.add(layers.MaxPooling2D((2, 2)))\n",
    "model.add(layers.Conv2D(64, (3, 3), activation='relu'))\n"
   ]
  },
  {
   "cell_type": "code",
   "execution_count": 18,
   "metadata": {},
   "outputs": [
    {
     "name": "stdout",
     "output_type": "stream",
     "text": [
      "Model: \"sequential_3\"\n",
      "_________________________________________________________________\n",
      " Layer (type)                Output Shape              Param #   \n",
      "=================================================================\n",
      " conv2d_3 (Conv2D)           (None, 30, 30, 32)        896       \n",
      "                                                                 \n",
      " max_pooling2d_2 (MaxPooling  (None, 15, 15, 32)       0         \n",
      " 2D)                                                             \n",
      "                                                                 \n",
      " conv2d_4 (Conv2D)           (None, 13, 13, 64)        18496     \n",
      "                                                                 \n",
      " max_pooling2d_3 (MaxPooling  (None, 6, 6, 64)         0         \n",
      " 2D)                                                             \n",
      "                                                                 \n",
      " conv2d_5 (Conv2D)           (None, 4, 4, 64)          36928     \n",
      "                                                                 \n",
      "=================================================================\n",
      "Total params: 56,320\n",
      "Trainable params: 56,320\n",
      "Non-trainable params: 0\n",
      "_________________________________________________________________\n"
     ]
    }
   ],
   "source": [
    "model.summary()\n",
    "\n"
   ]
  },
  {
   "cell_type": "code",
   "execution_count": 19,
   "metadata": {},
   "outputs": [
    {
     "data": {
      "image/png": "[encoded data removed]",
      "text/plain": [
       "<PIL.Image.Image image mode=RGBA size=190x196>"
      ]
     },
     "execution_count": 19,
     "metadata": {},
     "output_type": "execute_result"
    }
   ],
   "source": [
    "visualkeras.layered_view(model, legend=True)"
   ]
  },
  {
   "cell_type": "markdown",
   "metadata": {},
   "source": [
    "# Plots of Accuracy and Loss"
   ]
  },
  {
   "cell_type": "code",
   "execution_count": 22,
   "metadata": {},
   "outputs": [],
   "source": [
    "def plotLearningCurve(history,epochs):\n",
    "  epochRange = range(1,epochs+1)\n",
    "  plt.plot(epochRange,history.history['loss'])\n",
    "  plt.plot(epochRange,history.history['val_loss'])\n",
    "  plt.title('Model Loss')\n",
    "  plt.xlabel('Epoch')\n",
    "  plt.ylabel('Loss')\n",
    "  plt.legend(['Train','Validation'],loc='upper left')\n",
    "  plt.show()"
   ]
  },
  {
   "cell_type": "code",
   "execution_count": 23,
   "metadata": {
    "id": "Io7Fkt8QhHXB",
    "outputId": "0e6faa92-7b7b-409d-b14e-82fabee95dca"
   },
   "outputs": [
    {
     "data": {
      "image/png": "[encoded data removed]",
      "text/plain": [
       "<Figure size 640x480 with 1 Axes>"
      ]
     },
     "metadata": {},
     "output_type": "display_data"
    }
   ],
   "source": [
    "plotLearningCurve(history,10)"
   ]
  },
  {
   "cell_type": "code",
   "execution_count": 20,
   "metadata": {
    "id": "GP-xWimWgcR4"
   },
   "outputs": [],
   "source": [
    "def plotLearningCurve(history,epochs):\n",
    "  epochRange = range(1,epochs+1)\n",
    "  plt.plot(epochRange,history.history['Accuracy'])\n",
    "  plt.plot(epochRange,history.history['val_accuracy'])\n",
    "  plt.title('Model Accuracy')\n",
    "  plt.xlabel('Epoch')\n",
    "  plt.ylabel('Accuracy')\n",
    "  plt.legend(['Train','Validation'],loc='upper left')\n",
    "  plt.show()\n"
   ]
  },
  {
   "cell_type": "code",
   "execution_count": null,
   "metadata": {},
   "outputs": [],
   "source": [
    "plotLearningCurve(history,10)"
   ]
  },
  {
   "cell_type": "code",
   "execution_count": null,
   "metadata": {
    "id": "AYh4iEiOhKoR"
   },
   "outputs": [],
   "source": []
  },
  {
   "cell_type": "code",
   "execution_count": 4,
   "metadata": {},
   "outputs": [
    {
     "data": {
      "text/html": [
       "<div>\n",
       "<style scoped>\n",
       "    .dataframe tbody tr th:only-of-type {\n",
       "        vertical-align: middle;\n",
       "    }\n",
       "\n",
       "    .dataframe tbody tr th {\n",
       "        vertical-align: top;\n",
       "    }\n",
       "\n",
       "    .dataframe thead th {\n",
       "        text-align: right;\n",
       "    }\n",
       "</style>\n",
       "<table border=\"1\" class=\"dataframe\">\n",
       "  <thead>\n",
       "    <tr style=\"text-align: right;\">\n",
       "      <th></th>\n",
       "      <th>Unnamed: 0</th>\n",
       "      <th>Sex</th>\n",
       "      <th>Age</th>\n",
       "      <th>Adress</th>\n",
       "      <th>FBS</th>\n",
       "      <th>Urea</th>\n",
       "      <th>Creatinin</th>\n",
       "      <th>ALB</th>\n",
       "      <th>T_Ca</th>\n",
       "      <th>GPT</th>\n",
       "      <th>...</th>\n",
       "      <th>WBC</th>\n",
       "      <th>RBC</th>\n",
       "      <th>HGB</th>\n",
       "      <th>PLT</th>\n",
       "      <th>ESR</th>\n",
       "      <th>LDH</th>\n",
       "      <th>Na</th>\n",
       "      <th>K</th>\n",
       "      <th>CL</th>\n",
       "      <th>minibatch</th>\n",
       "    </tr>\n",
       "  </thead>\n",
       "  <tbody>\n",
       "    <tr>\n",
       "      <th>0</th>\n",
       "      <td>0</td>\n",
       "      <td>1</td>\n",
       "      <td>60</td>\n",
       "      <td>24</td>\n",
       "      <td>100</td>\n",
       "      <td>23</td>\n",
       "      <td>0.8</td>\n",
       "      <td>3.4</td>\n",
       "      <td>10.0</td>\n",
       "      <td>20</td>\n",
       "      <td>...</td>\n",
       "      <td>3.4</td>\n",
       "      <td>4.60</td>\n",
       "      <td>13.4</td>\n",
       "      <td>196</td>\n",
       "      <td>14</td>\n",
       "      <td>150</td>\n",
       "      <td>145.0</td>\n",
       "      <td>4.50</td>\n",
       "      <td>107.1</td>\n",
       "      <td>0</td>\n",
       "    </tr>\n",
       "    <tr>\n",
       "      <th>1</th>\n",
       "      <td>1</td>\n",
       "      <td>1</td>\n",
       "      <td>53</td>\n",
       "      <td>19</td>\n",
       "      <td>190</td>\n",
       "      <td>27</td>\n",
       "      <td>0.6</td>\n",
       "      <td>4.2</td>\n",
       "      <td>9.3</td>\n",
       "      <td>11</td>\n",
       "      <td>...</td>\n",
       "      <td>4.4</td>\n",
       "      <td>5.00</td>\n",
       "      <td>12.5</td>\n",
       "      <td>155</td>\n",
       "      <td>15</td>\n",
       "      <td>260</td>\n",
       "      <td>139.2</td>\n",
       "      <td>4.17</td>\n",
       "      <td>106.4</td>\n",
       "      <td>0</td>\n",
       "    </tr>\n",
       "    <tr>\n",
       "      <th>2</th>\n",
       "      <td>2</td>\n",
       "      <td>1</td>\n",
       "      <td>50</td>\n",
       "      <td>19</td>\n",
       "      <td>150</td>\n",
       "      <td>15</td>\n",
       "      <td>1.1</td>\n",
       "      <td>3.5</td>\n",
       "      <td>8.5</td>\n",
       "      <td>13</td>\n",
       "      <td>...</td>\n",
       "      <td>5.1</td>\n",
       "      <td>4.46</td>\n",
       "      <td>13.8</td>\n",
       "      <td>312</td>\n",
       "      <td>15</td>\n",
       "      <td>169</td>\n",
       "      <td>140.0</td>\n",
       "      <td>4.00</td>\n",
       "      <td>100.1</td>\n",
       "      <td>0</td>\n",
       "    </tr>\n",
       "    <tr>\n",
       "      <th>3</th>\n",
       "      <td>3</td>\n",
       "      <td>1</td>\n",
       "      <td>36</td>\n",
       "      <td>17</td>\n",
       "      <td>80</td>\n",
       "      <td>20</td>\n",
       "      <td>1.0</td>\n",
       "      <td>4.2</td>\n",
       "      <td>8.0</td>\n",
       "      <td>7</td>\n",
       "      <td>...</td>\n",
       "      <td>3.1</td>\n",
       "      <td>4.33</td>\n",
       "      <td>10.7</td>\n",
       "      <td>212</td>\n",
       "      <td>10</td>\n",
       "      <td>138</td>\n",
       "      <td>136.4</td>\n",
       "      <td>4.06</td>\n",
       "      <td>107.1</td>\n",
       "      <td>0</td>\n",
       "    </tr>\n",
       "    <tr>\n",
       "      <th>4</th>\n",
       "      <td>4</td>\n",
       "      <td>1</td>\n",
       "      <td>30</td>\n",
       "      <td>17</td>\n",
       "      <td>80</td>\n",
       "      <td>40</td>\n",
       "      <td>0.8</td>\n",
       "      <td>3.0</td>\n",
       "      <td>9.5</td>\n",
       "      <td>9</td>\n",
       "      <td>...</td>\n",
       "      <td>4.2</td>\n",
       "      <td>4.13</td>\n",
       "      <td>12.3</td>\n",
       "      <td>243</td>\n",
       "      <td>5</td>\n",
       "      <td>154</td>\n",
       "      <td>142.3</td>\n",
       "      <td>4.00</td>\n",
       "      <td>106.2</td>\n",
       "      <td>0</td>\n",
       "    </tr>\n",
       "  </tbody>\n",
       "</table>\n",
       "<p>5 rows × 24 columns</p>\n",
       "</div>"
      ],
      "text/plain": [
       "   Unnamed: 0  Sex  Age  Adress  FBS  Urea  Creatinin  ALB  T_Ca  GPT  ...  \\\n",
       "0           0    1   60      24  100    23        0.8  3.4  10.0   20  ...   \n",
       "1           1    1   53      19  190    27        0.6  4.2   9.3   11  ...   \n",
       "2           2    1   50      19  150    15        1.1  3.5   8.5   13  ...   \n",
       "3           3    1   36      17   80    20        1.0  4.2   8.0    7  ...   \n",
       "4           4    1   30      17   80    40        0.8  3.0   9.5    9  ...   \n",
       "\n",
       "   WBC   RBC   HGB  PLT  ESR  LDH     Na     K     CL  minibatch  \n",
       "0  3.4  4.60  13.4  196   14  150  145.0  4.50  107.1          0  \n",
       "1  4.4  5.00  12.5  155   15  260  139.2  4.17  106.4          0  \n",
       "2  5.1  4.46  13.8  312   15  169  140.0  4.00  100.1          0  \n",
       "3  3.1  4.33  10.7  212   10  138  136.4  4.06  107.1          0  \n",
       "4  4.2  4.13  12.3  243    5  154  142.3  4.00  106.2          0  \n",
       "\n",
       "[5 rows x 24 columns]"
      ]
     },
     "execution_count": 4,
     "metadata": {},
     "output_type": "execute_result"
    }
   ],
   "source": [
    "# Read the data file\n",
    "\n",
    "data = pd.read_excel('minibatch.xlsx')\n",
    "data.head()"
   ]
  },
  {
   "cell_type": "code",
   "execution_count": 5,
   "metadata": {},
   "outputs": [],
   "source": [
    "# Cleaning and modifying the data\n",
    "data = data.drop('Unnamed: 0',axis=1)\n",
    "\n",
    "# Scaling the dataset\n",
    "datas = pd.DataFrame(preprocessing.scale(data.iloc[:,1:23]))\n",
    "datas.columns = list(data.iloc[:,1:23].columns)\n",
    "datas['minibatch'] = data['minibatch']\n",
    "\n",
    "# Creating the high dimensional feature space X\n",
    "data_drop = datas.drop('minibatch',axis=1)\n",
    "X = data_drop.values\n",
    "Y=data['minibatch'] "
   ]
  },
  {
   "cell_type": "code",
   "execution_count": 6,
   "metadata": {
    "scrolled": true
   },
   "outputs": [
    {
     "data": {
      "text/plain": [
       "0       0\n",
       "1       0\n",
       "2       0\n",
       "3       0\n",
       "4       0\n",
       "       ..\n",
       "2430    0\n",
       "2431    0\n",
       "2432    0\n",
       "2433    0\n",
       "2434    0\n",
       "Name: minibatch, Length: 2435, dtype: int64"
      ]
     },
     "execution_count": 6,
     "metadata": {},
     "output_type": "execute_result"
    }
   ],
   "source": [
    "Y"
   ]
  },
  {
   "cell_type": "code",
   "execution_count": 7,
   "metadata": {},
   "outputs": [],
   "source": [
    "from sklearn.model_selection import train_test_split\n",
    "X_train, X_test, y_train, y_test = train_test_split(X, Y, \n",
    "                                                    test_size=0.25)\n",
    "\n"
   ]
  },
  {
   "cell_type": "code",
   "execution_count": null,
   "metadata": {},
   "outputs": [],
   "source": [
    "#1 Lyer"
   ]
  },
  {
   "cell_type": "code",
   "execution_count": 6,
   "metadata": {},
   "outputs": [],
   "source": [
    "from tensorflow import keras\n",
    "from tensorflow.keras import layers, models\n",
    "\n",
    "\n",
    "model = models.Sequential()\n",
    "model.add(layers.Conv2D(32, (3, 3), activation='relu', input_shape=(32, 32, 3)))\n",
    "model.add(layers.MaxPooling2D((2, 2)))\n",
    "model.add(layers.Conv2D(64, (3, 3), activation='relu'))\n",
    "model.add(layers.MaxPooling2D((2, 2)))\n",
    "model.add(layers.Conv2D(64, (3, 3), activation='relu'))"
   ]
  },
  {
   "cell_type": "code",
   "execution_count": null,
   "metadata": {},
   "outputs": [],
   "source": [
    "#2 Lyer"
   ]
  },
  {
   "cell_type": "code",
   "execution_count": 25,
   "metadata": {},
   "outputs": [],
   "source": [
    "#create model\n",
    "model = Sequential()\n",
    "\n",
    "#add model layers\n",
    "model.add(layers.Conv2D(64, kernel_size=3, activation='relu', input_shape=(28,28,1)))\n",
    "model.add(layers.Conv2D(32, kernel_size=3, activation='relu'))\n",
    "model.add(layers.Flatten())\n",
    "model.add(layers.Dense(10, activation='softmax'))"
   ]
  },
  {
   "cell_type": "code",
   "execution_count": 16,
   "metadata": {},
   "outputs": [],
   "source": [
    "#3 Lyer"
   ]
  },
  {
   "cell_type": "code",
   "execution_count": 9,
   "metadata": {},
   "outputs": [
    {
     "name": "stdout",
     "output_type": "stream",
     "text": [
      "Epoch 1/10\n",
      "58/58 [==============================] - 2s 11ms/step - loss: 0.2709 - accuracy: 0.9244 - val_loss: 0.0350 - val_accuracy: 0.9852\n",
      "Epoch 2/10\n",
      "58/58 [==============================] - 0s 6ms/step - loss: 0.0272 - accuracy: 0.9918 - val_loss: 0.0279 - val_accuracy: 0.9852\n",
      "Epoch 3/10\n",
      "58/58 [==============================] - 0s 5ms/step - loss: 0.0169 - accuracy: 0.9956 - val_loss: 0.0284 - val_accuracy: 0.9852\n",
      "Epoch 4/10\n",
      "58/58 [==============================] - 0s 5ms/step - loss: 0.0158 - accuracy: 0.9945 - val_loss: 0.0256 - val_accuracy: 0.9852\n",
      "Epoch 5/10\n",
      "58/58 [==============================] - 0s 6ms/step - loss: 0.0108 - accuracy: 0.9973 - val_loss: 0.0249 - val_accuracy: 0.9901\n",
      "Epoch 6/10\n",
      "58/58 [==============================] - 0s 5ms/step - loss: 0.0126 - accuracy: 0.9962 - val_loss: 0.0254 - val_accuracy: 0.9885\n",
      "Epoch 7/10\n",
      "58/58 [==============================] - 0s 5ms/step - loss: 0.0072 - accuracy: 0.9973 - val_loss: 0.0249 - val_accuracy: 0.9885\n",
      "Epoch 8/10\n",
      "58/58 [==============================] - 0s 5ms/step - loss: 0.0096 - accuracy: 0.9967 - val_loss: 0.0263 - val_accuracy: 0.9869\n",
      "Epoch 9/10\n",
      "58/58 [==============================] - 0s 5ms/step - loss: 0.0072 - accuracy: 0.9978 - val_loss: 0.0243 - val_accuracy: 0.9885\n",
      "Epoch 10/10\n",
      "58/58 [==============================] - 0s 5ms/step - loss: 0.0096 - accuracy: 0.9967 - val_loss: 0.0348 - val_accuracy: 0.9869\n"
     ]
    },
    {
     "data": {
      "text/plain": [
       "<keras.callbacks.History at 0x1c2245cbb50>"
      ]
     },
     "execution_count": 9,
     "metadata": {},
     "output_type": "execute_result"
    }
   ],
   "source": [
    "model1 = Sequential()\n",
    "model1.add(Dense(128,activation=\"relu\",input_dim = np.shape(X)[1]))\n",
    "model1.add(Dropout(0.25))\n",
    "model1.add(Dense(32, activation='relu'))\n",
    "model1.add(Dropout(0.25))\n",
    "model1.add(Dense(32, activation='relu'))\n",
    "model1.add(Dense(1, activation='sigmoid'))\n",
    "sgd = SGD(lr=0.01, decay=1e-6, momentum=0.9, nesterov=True)\n",
    "\n",
    "model1.compile(loss='binary_crossentropy', optimizer=sgd, metrics=['accuracy'])\n",
    "\n",
    "# Fit and test the model by randomly splitting it \n",
    "# 67% of the data for training and 33% of the data for validation\n",
    "model1.fit(X_train, y_train,validation_data=(X_test, y_test), epochs=10,validation_split=0.33)"
   ]
  },
  {
   "cell_type": "code",
   "execution_count": 26,
   "metadata": {},
   "outputs": [],
   "source": [
    "\n",
    "#compile model using accuracy as a measure of model performance\n",
    "model.compile(optimizer='adam', loss='categorical_crossentropy', metrics=['accuracy'])\n"
   ]
  },
  {
   "cell_type": "markdown",
   "metadata": {},
   "source": [
    "model.fit(X_train, y_train,validation_data=(X_test, y_test), epochs=10,validation_split=0.33)\n"
   ]
  },
  {
   "cell_type": "markdown",
   "metadata": {},
   "source": [
    "#train model\n",
    "#model.fit(X_train, y_train,validation_data=(X_test, y_test), epochs=10,validation_split=0.33)\n",
    "history=model.fit(X, datas['minibatch'], batch_size=5, epochs=10,validation_split=0.33)"
   ]
  },
  {
   "cell_type": "code",
   "execution_count": 10,
   "metadata": {},
   "outputs": [
    {
     "name": "stdout",
     "output_type": "stream",
     "text": [
      "1/1 [==============================] - 0s 196ms/step\n"
     ]
    },
    {
     "data": {
      "text/plain": [
       "array([[1.0000000e+00],\n",
       "       [4.2464503e-06],\n",
       "       [9.9999976e-01],\n",
       "       [1.0000000e+00]], dtype=float32)"
      ]
     },
     "execution_count": 10,
     "metadata": {},
     "output_type": "execute_result"
    }
   ],
   "source": [
    "#show predictions for the first 3 images in the test set\n",
    "model1.predict(X_test[:4])\n"
   ]
  },
  {
   "cell_type": "code",
   "execution_count": 11,
   "metadata": {},
   "outputs": [
    {
     "data": {
      "text/plain": [
       "1578    1\n",
       "876     0\n",
       "2374    1\n",
       "2324    1\n",
       "Name: minibatch, dtype: int64"
      ]
     },
     "execution_count": 11,
     "metadata": {},
     "output_type": "execute_result"
    }
   ],
   "source": [
    "#show actual results for the first 3 images in the test set\n",
    "y_test[:4]"
   ]
  },
  {
   "cell_type": "code",
   "execution_count": null,
   "metadata": {},
   "outputs": [],
   "source": []
  }
 ],
 "metadata": {
  "kernelspec": {
   "display_name": "Python 3 (ipykernel)",
   "language": "python",
   "name": "python3"
  },
  "language_info": {
   "codemirror_mode": {
    "name": "ipython",
    "version": 3
   },
   "file_extension": ".py",
   "mimetype": "text/x-python",
   "name": "python",
   "nbconvert_exporter": "python",
   "pygments_lexer": "ipython3",
   "version": "3.9.13"
  }
 },
 "nbformat": 4,
 "nbformat_minor": 1
}
